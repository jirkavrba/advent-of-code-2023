{
 "cells": [
  {
   "cell_type": "markdown",
   "source": [
    "# Day 8"
   ],
   "metadata": {
    "collapsed": false
   }
  },
  {
   "cell_type": "code",
   "execution_count": 34,
   "outputs": [],
   "source": [
    "import kotlin.io.path.Path\n",
    "import kotlin.io.path.readLines\n",
    "\n",
    "enum class Direction {\n",
    "    Left,\n",
    "    Right\n",
    "}\n",
    "\n",
    "data class Node(\n",
    "    val name: String,\n",
    "    val left: String,\n",
    "    val right: String,\n",
    ")\n",
    "\n",
    "fun Node.navigate(direction: Direction) = \n",
    "    when (direction) {\n",
    "        Direction.Left -> left\n",
    "        Direction.Right -> right\n",
    "    }\n",
    "\n",
    "fun <T> Sequence<T>.repeated() =\n",
    "    generateSequence(this) { it }.flatten()\n",
    "\n",
    "val lines = Path(\"./input\").readLines().filter { it.isNotBlank() }\n",
    "val directions = lines.first().map { if (it == 'L') Direction.Left else Direction.Right }.asSequence().repeated()\n",
    "val nodes = lines.drop(1).dropWhile { it.isBlank() }.associate { line ->\n",
    "    val (name, branches) = line.split(\" = \")\n",
    "    val (left, right) = branches.removeSurrounding(\"(\", \")\").split(\", \")\n",
    "    \n",
    "    name to Node(name, left, right)\n",
    "}.legit()\n",
    "\n",
    "// Map that replaces the default get operator by an asserted call\n",
    "class TrustMeBroMap<K, V>(val source: Map<K, V>) : Map<K, V> by source {\n",
    "    override operator fun get(key: K): V = source[key] ?: throw NullPointerException(\":)\")\n",
    "}\n",
    "\n",
    "fun <K, V> Map<K, V>.legit(): TrustMeBroMap<K, V> = TrustMeBroMap(this)"
   ],
   "metadata": {
    "collapsed": false,
    "ExecuteTime": {
     "end_time": "2023-12-08T19:20:52.590718397Z",
     "start_time": "2023-12-08T19:20:52.341054669Z"
    }
   }
  },
  {
   "cell_type": "markdown",
   "source": [],
   "metadata": {
    "collapsed": false
   }
  },
  {
   "cell_type": "markdown",
   "source": [
    "## Part 1"
   ],
   "metadata": {
    "collapsed": false
   }
  },
  {
   "cell_type": "code",
   "execution_count": 35,
   "outputs": [
    {
     "data": {
      "text/plain": "16343"
     },
     "execution_count": 35,
     "metadata": {},
     "output_type": "execute_result"
    }
   ],
   "source": [
    "directions.runningFold(nodes[\"AAA\"]) { node, direction -> nodes[node.navigate(direction)] }\n",
    "    .takeWhile { it.name != \"ZZZ\" }\n",
    "    .count()\n"
   ],
   "metadata": {
    "collapsed": false,
    "ExecuteTime": {
     "end_time": "2023-12-08T19:20:54.411311651Z",
     "start_time": "2023-12-08T19:20:54.315169021Z"
    }
   }
  }
 ],
 "metadata": {
  "kernelspec": {
   "display_name": "Kotlin",
   "language": "kotlin",
   "name": "kotlin"
  },
  "language_info": {
   "name": "kotlin",
   "version": "1.9.0",
   "mimetype": "text/x-kotlin",
   "file_extension": ".kt",
   "pygments_lexer": "kotlin",
   "codemirror_mode": "text/x-kotlin",
   "nbconvert_exporter": ""
  }
 },
 "nbformat": 4,
 "nbformat_minor": 0
}
