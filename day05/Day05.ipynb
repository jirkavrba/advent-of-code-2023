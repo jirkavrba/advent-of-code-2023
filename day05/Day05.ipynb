{
 "cells": [
  {
   "cell_type": "markdown",
   "source": [
    "# Day 5"
   ],
   "metadata": {
    "collapsed": false
   }
  },
  {
   "cell_type": "code",
   "execution_count": 3,
   "outputs": [],
   "source": [
    "import kotlin.io.path.Path\n",
    "import kotlin.io.path.readLines\n",
    "\n",
    "data class Almanac(\n",
    "    val seeds: List<Long>,\n",
    "    val mappings: List<Mapping>\n",
    ")\n",
    "\n",
    "data class Mapping(\n",
    "    val ranges: List<MappingRange>\n",
    ")\n",
    "\n",
    "data class MappingRange(\n",
    "    val targetStart: Long,\n",
    "    val sourceStart: Long,\n",
    "    val length: Long,\n",
    ") {\n",
    "    fun matches(input: Long): Boolean = input in sourceStart..<(sourceStart + length)\n",
    "    fun convert(input: Long): Long = (input - sourceStart) + targetStart\n",
    "\n",
    "    override fun toString(): String = \"$sourceStart..${sourceStart + length} -> $targetStart..${targetStart + length}\"\n",
    "}\n",
    "\n",
    "fun parseInput(lines: List<String>): Almanac {\n",
    "    val seeds = lines.first().removePrefix(\"seeds: \").split(\" \").map { it.toLong() }\n",
    "\n",
    "    val initial = emptyList<Mapping>() to emptyList<MappingRange>()\n",
    "    val (parsedMappings, lastMapping) = lines.drop(2).fold(initial) { reduction, line ->\n",
    "        val (mappings, ranges) = reduction\n",
    "\n",
    "        when {\n",
    "            line.isBlank() -> reduction\n",
    "            line.matches(\"^[a-z].*\".toRegex()) -> (mappings + Mapping(ranges)) to emptyList()\n",
    "            else -> {\n",
    "                val (targetStart, sourceStart, length) = line.trim().split(\" \").map { it.toLong() }\n",
    "                mappings to ranges + MappingRange(\n",
    "                    targetStart = targetStart,\n",
    "                    sourceStart = sourceStart,\n",
    "                    length = length\n",
    "                )\n",
    "            }\n",
    "        }\n",
    "    }\n",
    "\n",
    "    return Almanac(\n",
    "        seeds = seeds,\n",
    "        mappings = parsedMappings + Mapping(lastMapping)\n",
    "    )\n",
    "}\n",
    "\n",
    "val lines = Path(\"./input\").readLines().filter { it.isNotBlank() }\n",
    "val almanac = parseInput(lines)"
   ],
   "metadata": {
    "collapsed": false,
    "ExecuteTime": {
     "end_time": "2023-12-06T21:48:57.769800798Z",
     "start_time": "2023-12-06T21:48:57.377013432Z"
    }
   }
  },
  {
   "cell_type": "markdown",
   "source": [
    "## Part 1"
   ],
   "metadata": {
    "collapsed": false
   }
  },
  {
   "cell_type": "code",
   "execution_count": 4,
   "outputs": [
    {
     "data": {
      "text/plain": "309796150"
     },
     "execution_count": 4,
     "metadata": {},
     "output_type": "execute_result"
    }
   ],
   "source": [
    "val locations = almanac.seeds.map { seed ->\n",
    "    almanac.mappings.fold(seed) { value, mapping ->\n",
    "        mapping.ranges.firstOrNull { it.matches(value) }\n",
    "            ?.convert(value)\n",
    "            ?: value\n",
    "    }\n",
    "}\n",
    "\n",
    "locations.min()\n"
   ],
   "metadata": {
    "collapsed": false,
    "ExecuteTime": {
     "end_time": "2023-12-06T21:48:57.929866640Z",
     "start_time": "2023-12-06T21:48:57.770163350Z"
    }
   }
  }
 ],
 "metadata": {
  "kernelspec": {
   "display_name": "Kotlin",
   "language": "kotlin",
   "name": "kotlin"
  },
  "language_info": {
   "name": "kotlin",
   "version": "1.9.0",
   "mimetype": "text/x-kotlin",
   "file_extension": ".kt",
   "pygments_lexer": "kotlin",
   "codemirror_mode": "text/x-kotlin",
   "nbconvert_exporter": ""
  }
 },
 "nbformat": 4,
 "nbformat_minor": 0
}
