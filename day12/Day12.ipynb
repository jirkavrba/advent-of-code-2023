{
 "cells": [
  {
   "cell_type": "markdown",
   "source": [
    "# Day 12"
   ],
   "metadata": {
    "collapsed": false
   }
  },
  {
   "cell_type": "code",
   "execution_count": 57,
   "outputs": [
    {
     "name": "stdout",
     "output_type": "stream",
     "text": [
      "Row(states=[Unknown, Unknown, Unknown, Operational, Damaged, Damaged, Damaged], groups=[1, 1, 3])\n",
      "Row(states=[Damaged, Unknown, Unknown, Operational, Damaged, Damaged, Damaged], groups=[1, 1, 3])\n",
      "row = Row(states=[Damaged, Unknown, Unknown, Operational, Damaged, Damaged, Damaged], groups=[1, 1, 3])\n",
      "available = 3\n",
      "Row(states=[Damaged, Damaged, Damaged], groups=[1, 3])\n",
      "row = Row(states=[Damaged, Damaged, Damaged], groups=[1, 3])\n",
      "available = 3\n",
      "Row(states=[], groups=[3])\n",
      "Row(states=[Operational, Unknown, Unknown, Operational, Damaged, Damaged, Damaged], groups=[1, 1, 3])\n",
      "Row(states=[Unknown, Unknown, Operational, Damaged, Damaged, Damaged], groups=[1, 1, 3])\n",
      "Row(states=[Damaged, Unknown, Operational, Damaged, Damaged, Damaged], groups=[1, 1, 3])\n",
      "row = Row(states=[Damaged, Unknown, Operational, Damaged, Damaged, Damaged], groups=[1, 1, 3])\n",
      "available = 2\n",
      "Row(states=[Damaged, Damaged, Damaged], groups=[1, 3])\n",
      "row = Row(states=[Damaged, Damaged, Damaged], groups=[1, 3])\n",
      "available = 3\n",
      "Row(states=[], groups=[3])\n",
      "Row(states=[Operational, Unknown, Operational, Damaged, Damaged, Damaged], groups=[1, 1, 3])\n",
      "Row(states=[Unknown, Operational, Damaged, Damaged, Damaged], groups=[1, 1, 3])\n",
      "Row(states=[Damaged, Operational, Damaged, Damaged, Damaged], groups=[1, 1, 3])\n",
      "row = Row(states=[Damaged, Operational, Damaged, Damaged, Damaged], groups=[1, 1, 3])\n",
      "available = 1\n",
      "Row(states=[Damaged, Damaged, Damaged], groups=[1, 3])\n",
      "row = Row(states=[Damaged, Damaged, Damaged], groups=[1, 3])\n",
      "available = 3\n",
      "Row(states=[], groups=[3])\n",
      "Row(states=[Operational, Operational, Damaged, Damaged, Damaged], groups=[1, 1, 3])\n",
      "Row(states=[Operational, Damaged, Damaged, Damaged], groups=[1, 1, 3])\n",
      "Row(states=[Damaged, Damaged, Damaged], groups=[1, 1, 3])\n",
      "row = Row(states=[Damaged, Damaged, Damaged], groups=[1, 1, 3])\n",
      "available = 3\n",
      "Row(states=[], groups=[1, 3])\n",
      "= 0\n"
     ]
    },
    {
     "data": {
      "text/plain": "[0]"
     },
     "execution_count": 57,
     "metadata": {},
     "output_type": "execute_result"
    }
   ],
   "source": [
    "import kotlin.io.path.Path\n",
    "import kotlin.io.path.readLines\n",
    "\n",
    "enum class SpringState {\n",
    "    Operational,\n",
    "    Damaged,\n",
    "    Unknown,\n",
    "}\n",
    "\n",
    "fun SpringState.canBeDamaged() =\n",
    " this != SpringState.Operational\n",
    "\n",
    "data class Row(\n",
    "    val states: List<SpringState>,\n",
    "    val groups: List<Int>,\n",
    ")\n",
    "\n",
    "fun Char.toState() = when (this) {\n",
    "    '.' -> SpringState.Operational\n",
    "    '#' -> SpringState.Damaged\n",
    "    else -> SpringState.Unknown\n",
    "}\n",
    "\n",
    "val lines = Path(\"./input_one\").readLines().filter { it.isNotBlank() }\n",
    "val input = lines.map { line ->\n",
    "    val (states, groups) = line.split(\" \")\n",
    "    \n",
    "    Row(\n",
    "        states = states.map { it.toState() },\n",
    "        groups = groups.split(\",\").map { it.toInt() }\n",
    "    )\n",
    "}\n",
    "\n",
    "// Part 1\n",
    "\n",
    "fun computeDamagedArrangements(row: Row): Long {\n",
    "    val group = row.groups.firstOrNull() ?: return 0L\n",
    "    val remainingGroups = row.groups.drop(1)\n",
    "    \n",
    "    val available = row.states.takeWhile { it.canBeDamaged() }.size\n",
    "    \n",
    "    println(\"row = $row\")\n",
    "    println(\"available = $available\")\n",
    "    \n",
    "    return when {\n",
    "        available < group -> 0L\n",
    "        available == row.states.size -> computeArrangements(Row(emptyList(), remainingGroups))\n",
    "        row.states.drop(available).firstOrNull() == SpringState.Damaged -> 0\n",
    "        else -> computeArrangements(Row(row.states.drop(available + 1), remainingGroups))\n",
    "    }\n",
    "}\n",
    "\n",
    "fun computeArrangements(row: Row): Long {\n",
    "    val currentState = row.states.firstOrNull()\n",
    "    val remainingStates = row.states.drop(1)\n",
    "    \n",
    "    println(row)\n",
    "    \n",
    "    return when (currentState) {\n",
    "        null -> if (row.groups.isEmpty()) 1L.also { println(\"*\") } else 0L\n",
    "        SpringState.Operational -> computeArrangements(row.copy(states = remainingStates))\n",
    "        SpringState.Damaged -> computeDamagedArrangements(row)\n",
    "        SpringState.Unknown ->\n",
    "            computeArrangements(row.\n",
    "            computeArrangements(row.copy(states = listOf(SpringState.Operational) + remainingStates)) \n",
    "    }\n",
    "}\n",
    "\n",
    "input.map { computeArrangements(it).also { println(\"= $it\\n\\n\\n\") } }\n"
   ],
   "metadata": {
    "collapsed": true,
    "ExecuteTime": {
     "end_time": "2023-12-12T21:14:10.618450647Z",
     "start_time": "2023-12-12T21:14:10.438086134Z"
    }
   }
  },
  {
   "cell_type": "code",
   "execution_count": null,
   "outputs": [],
   "source": [],
   "metadata": {
    "collapsed": false
   }
  }
 ],
 "metadata": {
  "kernelspec": {
   "display_name": "Kotlin",
   "language": "kotlin",
   "name": "kotlin"
  },
  "language_info": {
   "name": "kotlin",
   "version": "1.9.0",
   "mimetype": "text/x-kotlin",
   "file_extension": ".kt",
   "pygments_lexer": "kotlin",
   "codemirror_mode": "text/x-kotlin",
   "nbconvert_exporter": ""
  }
 },
 "nbformat": 4,
 "nbformat_minor": 0
}
