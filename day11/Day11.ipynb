{
 "cells": [
  {
   "cell_type": "markdown",
   "source": [
    "# Day 11"
   ],
   "metadata": {
    "collapsed": false
   }
  },
  {
   "cell_type": "code",
   "execution_count": 42,
   "outputs": [
    {
     "name": "stdout",
     "output_type": "stream",
     "text": [
      "10313550\n",
      "611998089572\n"
     ]
    }
   ],
   "source": [
    "import kotlin.io.path.Path\n",
    "import kotlin.io.path.readLines\n",
    "import kotlin.math.max\n",
    "import kotlin.math.min\n",
    "\n",
    "data class Galaxy(\n",
    "    val x: Int,\n",
    "    val y: Int\n",
    ")\n",
    "\n",
    "val lines = Path(\"./input\").readLines().filter { it.isNotBlank() }\n",
    "val galaxies = lines.flatMapIndexed { y, line ->\n",
    "    line.mapIndexedNotNull { x, char ->\n",
    "        if (char == '#') Galaxy(x, y)\n",
    "        else null\n",
    "    }\n",
    "}\n",
    "\n",
    "val rows = galaxies.minOf { it.x }..galaxies.maxOf { it.x }\n",
    "val columns = galaxies.minOf { it.y }..galaxies.maxOf { it.y }\n",
    "\n",
    "val emptyRows = rows.filter { row -> galaxies.none { it.x == row } }\n",
    "val emptyColumns = columns.filter { column -> galaxies.none { it.y == column } }\n",
    "\n",
    "fun Galaxy.distanceTo(other: Galaxy, emptyRows: List<Int>, emptyColumns: List<Int>, expandedSize: Long): Long {\n",
    "    val vertical = (min(y, other.y)..max(y, other.y)).sumOf { if (it in emptyColumns) expandedSize else 1L }\n",
    "    val horizonal = (min(x, other.x)..max(x, other.x)).sumOf { if (it in emptyRows) expandedSize else 1L }\n",
    "    \n",
    "    return vertical + horizonal - 2\n",
    "}\n",
    "\n",
    "val pairs = galaxies.flatMapIndexed { index, first ->\n",
    "    galaxies.drop(index + 1).map { second ->\n",
    "        first to second\n",
    "    }\n",
    "}\n",
    "\n",
    "// Part 1\n",
    "println(pairs.sumOf { it.first.distanceTo(it.second, emptyRows, emptyColumns, 2) })\n",
    "\n",
    "// Part 2\n",
    "println(pairs.sumOf { it.first.distanceTo(it.second, emptyRows, emptyColumns, 1_000_000) })"
   ],
   "metadata": {
    "collapsed": true,
    "ExecuteTime": {
     "end_time": "2023-12-11T19:36:05.296020989Z",
     "start_time": "2023-12-11T19:36:04.898401452Z"
    }
   }
  }
 ],
 "metadata": {
  "kernelspec": {
   "display_name": "Kotlin",
   "language": "kotlin",
   "name": "kotlin"
  },
  "language_info": {
   "name": "kotlin",
   "version": "1.9.0",
   "mimetype": "text/x-kotlin",
   "file_extension": ".kt",
   "pygments_lexer": "kotlin",
   "codemirror_mode": "text/x-kotlin",
   "nbconvert_exporter": ""
  }
 },
 "nbformat": 4,
 "nbformat_minor": 0
}
