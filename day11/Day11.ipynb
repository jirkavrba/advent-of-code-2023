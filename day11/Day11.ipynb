{
 "cells": [
  {
   "cell_type": "markdown",
   "source": [
    "# Day 11"
   ],
   "metadata": {
    "collapsed": false
   }
  },
  {
   "cell_type": "code",
   "execution_count": 41,
   "outputs": [
    {
     "data": {
      "text/plain": "10313550"
     },
     "execution_count": 41,
     "metadata": {},
     "output_type": "execute_result"
    }
   ],
   "source": [
    "import kotlin.io.path.Path\n",
    "import kotlin.io.path.readLines\n",
    "import kotlin.math.max\n",
    "import kotlin.math.min\n",
    "\n",
    "data class Galaxy(\n",
    "    val x: Int,\n",
    "    val y: Int\n",
    ")\n",
    "\n",
    "val lines = Path(\"./input\").readLines().filter { it.isNotBlank() }\n",
    "val galaxies = lines.flatMapIndexed { y, line ->\n",
    "    line.mapIndexedNotNull { x, char ->\n",
    "        if (char == '#') Galaxy(x, y)\n",
    "        else null\n",
    "    }\n",
    "}\n",
    "\n",
    "val rows = galaxies.minOf { it.x }..galaxies.maxOf { it.x }\n",
    "val columns = galaxies.minOf { it.y }..galaxies.maxOf { it.y }\n",
    "\n",
    "val emptyRows = rows.filter { row -> galaxies.none { it.x == row } }\n",
    "val emptyColumns = columns.filter { column -> galaxies.none { it.y == column } }\n",
    "\n",
    "fun Galaxy.distanceTo(other: Galaxy, emptyRows: List<Int>, emptyColumns: List<Int>): Long {\n",
    "    val vertical = (min(y, other.y)..max(y, other.y)).sumOf { if (it in emptyColumns) 2L else 1L }\n",
    "    val horizonal = (min(x, other.x)..max(x, other.x)).sumOf { if (it in emptyRows) 2L else 1L }\n",
    "    \n",
    "    return vertical + horizonal - 2\n",
    "}\n",
    "\n",
    "val pairs = galaxies.flatMapIndexed { index, first ->\n",
    "    galaxies.drop(index + 1).map { second ->\n",
    "        first to second\n",
    "    }\n",
    "}\n",
    "\n",
    "// Part \n",
    "pairs.sumOf { \n",
    "    it.first.distanceTo(it.second, emptyRows, emptyColumns)\n",
    "}"
   ],
   "metadata": {
    "collapsed": true,
    "ExecuteTime": {
     "end_time": "2023-12-11T19:33:04.240031131Z",
     "start_time": "2023-12-11T19:33:03.989156649Z"
    }
   }
  },
  {
   "cell_type": "code",
   "execution_count": null,
   "outputs": [],
   "source": [],
   "metadata": {
    "collapsed": false
   }
  }
 ],
 "metadata": {
  "kernelspec": {
   "display_name": "Kotlin",
   "language": "kotlin",
   "name": "kotlin"
  },
  "language_info": {
   "name": "kotlin",
   "version": "1.9.0",
   "mimetype": "text/x-kotlin",
   "file_extension": ".kt",
   "pygments_lexer": "kotlin",
   "codemirror_mode": "text/x-kotlin",
   "nbconvert_exporter": ""
  }
 },
 "nbformat": 4,
 "nbformat_minor": 0
}
