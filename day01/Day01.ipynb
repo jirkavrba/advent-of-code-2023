{
 "cells": [
  {
   "cell_type": "markdown",
   "source": [
    "# Day 1"
   ],
   "metadata": {
    "collapsed": false
   }
  },
  {
   "cell_type": "code",
   "execution_count": 6,
   "outputs": [],
   "source": [
    "import kotlin.io.path.Path\n",
    "import kotlin.io.path.readLines\n",
    "\n",
    "val lines = Path(\"./input\").readLines().filter { it.isNotBlank() }\n",
    "\n",
    "fun String.firstDigit(): Int =\n",
    "    firstOrNull { it.isDigit() }?.digitToInt() ?: 0\n",
    "\n",
    "fun String.lastDigit(): Int =\n",
    "    lastOrNull { it.isDigit() }?.digitToInt() ?: 0\n"
   ],
   "metadata": {
    "collapsed": true,
    "ExecuteTime": {
     "end_time": "2023-12-06T22:10:58.665119046Z",
     "start_time": "2023-12-06T22:10:58.507689595Z"
    }
   }
  },
  {
   "cell_type": "markdown",
   "source": [
    "## Part 1"
   ],
   "metadata": {
    "collapsed": false
   }
  },
  {
   "cell_type": "code",
   "execution_count": 7,
   "outputs": [
    {
     "data": {
      "text/plain": "55621"
     },
     "execution_count": 7,
     "metadata": {},
     "output_type": "execute_result"
    }
   ],
   "source": [
    "lines.sumOf { it.firstDigit() * 10 + it.lastDigit() }"
   ],
   "metadata": {
    "collapsed": false,
    "ExecuteTime": {
     "end_time": "2023-12-06T22:10:58.739809877Z",
     "start_time": "2023-12-06T22:10:58.664464414Z"
    }
   }
  },
  {
   "cell_type": "markdown",
   "source": [
    "## Part 2"
   ],
   "metadata": {
    "collapsed": false
   }
  },
  {
   "cell_type": "code",
   "execution_count": 8,
   "outputs": [
    {
     "data": {
      "text/plain": "53139"
     },
     "execution_count": 8,
     "metadata": {},
     "output_type": "execute_result"
    }
   ],
   "source": [
    "fun String.translateNumbersToDigits(): String {\n",
    "    val translations = mapOf(\n",
    "        \"one\" to 1,\n",
    "        \"two\" to 2,\n",
    "        \"three\" to 3,\n",
    "        \"four\" to 4,\n",
    "        \"five\" to 5,\n",
    "        \"six\" to 6,\n",
    "        \"seven\" to 7,\n",
    "        \"eight\" to 8,\n",
    "        \"nine\" to 9\n",
    "    )\n",
    "\n",
    "    return translations.entries.fold(this) { string, (word, value) ->\n",
    "        // The translated number is duplicated to prevent consuming an overlapping character from another digit\n",
    "        // E.g. \"eightwothree\" would be interpreted as \"eigh23\", which is incorrect\n",
    "        string.replace(word, \"${word.last()}${value}${word.first()}\")\n",
    "    }\n",
    "}\n",
    "\n",
    "lines\n",
    "    .map { it.translateNumbersToDigits() }\n",
    "    .sumOf { it.firstDigit() * 10 + it.lastDigit() }\n"
   ],
   "metadata": {
    "collapsed": false,
    "ExecuteTime": {
     "end_time": "2023-12-06T22:10:58.942573411Z",
     "start_time": "2023-12-06T22:10:58.739886494Z"
    }
   }
  }
 ],
 "metadata": {
  "kernelspec": {
   "display_name": "Kotlin",
   "language": "kotlin",
   "name": "kotlin"
  },
  "language_info": {
   "name": "kotlin",
   "version": "1.9.0",
   "mimetype": "text/x-kotlin",
   "file_extension": ".kt",
   "pygments_lexer": "kotlin",
   "codemirror_mode": "text/x-kotlin",
   "nbconvert_exporter": ""
  }
 },
 "nbformat": 4,
 "nbformat_minor": 0
}
