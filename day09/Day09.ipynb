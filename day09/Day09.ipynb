{
 "cells": [
  {
   "cell_type": "markdown",
   "source": [
    "# Day 9"
   ],
   "metadata": {
    "collapsed": false
   }
  },
  {
   "cell_type": "code",
   "execution_count": 10,
   "outputs": [],
   "source": [
    "import kotlin.io.path.Path\n",
    "import kotlin.io.path.readLines\n",
    "\n",
    "typealias History = List<Long>\n",
    "\n",
    "val lines = Path(\"./input\").readLines().filter { it.isNotBlank() }\n",
    "val histories: List<History> = lines.map { line ->\n",
    "    line.split(\"\\\\s+\".toRegex()).map { it.toLong() }\n",
    "}\n",
    "\n",
    "fun History.differences(): History =\n",
    "    zipWithNext().map { it.second - it.first }\n",
    "\n",
    "fun History.predictNext(): Long = \n",
    "    if (isEmpty()) 0 else differences().predictNext() + last()\n",
    "\n",
    "fun History.predictPrevious(): Long = \n",
    "    if (isEmpty()) 0 else first() - differences().predictPrevious()"
   ],
   "metadata": {
    "collapsed": true,
    "ExecuteTime": {
     "end_time": "2023-12-09T08:37:04.907237630Z",
     "start_time": "2023-12-09T08:37:04.685818480Z"
    }
   }
  },
  {
   "cell_type": "markdown",
   "source": [
    "## Part 1"
   ],
   "metadata": {
    "collapsed": false
   }
  },
  {
   "cell_type": "code",
   "execution_count": 8,
   "outputs": [
    {
     "data": {
      "text/plain": "1696140818"
     },
     "execution_count": 8,
     "metadata": {},
     "output_type": "execute_result"
    }
   ],
   "source": [
    "histories.map { it.predictNext() }.sum()"
   ],
   "metadata": {
    "collapsed": false,
    "ExecuteTime": {
     "end_time": "2023-12-09T08:35:31.728950360Z",
     "start_time": "2023-12-09T08:35:31.645104191Z"
    }
   }
  },
  {
   "cell_type": "markdown",
   "source": [
    "## Part 2"
   ],
   "metadata": {
    "collapsed": false
   }
  },
  {
   "cell_type": "code",
   "execution_count": 11,
   "outputs": [
    {
     "data": {
      "text/plain": "1152"
     },
     "execution_count": 11,
     "metadata": {},
     "output_type": "execute_result"
    }
   ],
   "source": [
    "histories.map { it.predictPrevious() }.sum()"
   ],
   "metadata": {
    "collapsed": false,
    "ExecuteTime": {
     "end_time": "2023-12-09T08:37:06.702118709Z",
     "start_time": "2023-12-09T08:37:06.627812533Z"
    }
   }
  }
 ],
 "metadata": {
  "kernelspec": {
   "display_name": "Kotlin",
   "language": "kotlin",
   "name": "kotlin"
  },
  "language_info": {
   "name": "kotlin",
   "version": "1.9.0",
   "mimetype": "text/x-kotlin",
   "file_extension": ".kt",
   "pygments_lexer": "kotlin",
   "codemirror_mode": "text/x-kotlin",
   "nbconvert_exporter": ""
  }
 },
 "nbformat": 4,
 "nbformat_minor": 0
}
