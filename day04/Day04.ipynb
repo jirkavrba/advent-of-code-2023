{
 "cells": [
  {
   "cell_type": "markdown",
   "source": [
    "# Day 4"
   ],
   "metadata": {
    "collapsed": false
   }
  },
  {
   "cell_type": "code",
   "execution_count": 11,
   "outputs": [],
   "source": [
    "import kotlin.io.path.Path\n",
    "import kotlin.io.path.readLines\n",
    "\n",
    "data class ScratchCard(\n",
    "    val number: Int,\n",
    "    val winningNumbers: Set<Int>,\n",
    "    val scratchedNumbers: List<Int>\n",
    ") {\n",
    "    val matchingNumbers: Int\n",
    "        get() = scratchedNumbers.count { it in winningNumbers }\n",
    "\n",
    "    val points: Int\n",
    "        get() = 2.0.pow(matchingNumbers - 1).toInt()\n",
    "}\n",
    "\n",
    "fun parseInput(lines: List<String>): List<ScratchCard> {\n",
    "    fun String.parseNumbers(): List<Int> = trim().split(\" \").filter { it.isNotBlank() }.map { it.toInt() }\n",
    "\n",
    "    return lines.map { line ->\n",
    "        val (number, numbers) = line.removePrefix(\"Card \").split(\": \")\n",
    "        val (winningNumbers, scratchedNumbers) = numbers.split(\" | \")\n",
    "\n",
    "        ScratchCard(\n",
    "            number = number.trim().toInt(),\n",
    "            winningNumbers = winningNumbers.parseNumbers().toSet(),\n",
    "            scratchedNumbers = scratchedNumbers.parseNumbers()\n",
    "        )\n",
    "    }\n",
    "}\n",
    "\n",
    "val lines = Path(\"./input\").readLines().filter { it.isNotBlank() }\n",
    "val scratchcards = parseInput(lines)\n"
   ],
   "metadata": {
    "collapsed": true,
    "ExecuteTime": {
     "end_time": "2023-12-06T21:56:55.292182664Z",
     "start_time": "2023-12-06T21:56:55.106621357Z"
    }
   }
  },
  {
   "cell_type": "markdown",
   "source": [
    "## Part 1"
   ],
   "metadata": {
    "collapsed": false
   }
  },
  {
   "cell_type": "code",
   "execution_count": 12,
   "outputs": [
    {
     "data": {
      "text/plain": "25004"
     },
     "execution_count": 12,
     "metadata": {},
     "output_type": "execute_result"
    }
   ],
   "source": [
    "scratchcards.sumOf { it.points }"
   ],
   "metadata": {
    "collapsed": false,
    "ExecuteTime": {
     "end_time": "2023-12-06T21:56:55.353871279Z",
     "start_time": "2023-12-06T21:56:55.292030338Z"
    }
   }
  },
  {
   "cell_type": "markdown",
   "source": [
    "## Part 2\n",
    "\n",
    "TODO: Candidate for optimization"
   ],
   "metadata": {
    "collapsed": false
   }
  },
  {
   "cell_type": "code",
   "execution_count": 13,
   "outputs": [
    {
     "data": {
      "text/plain": "14427616"
     },
     "execution_count": 13,
     "metadata": {},
     "output_type": "execute_result"
    }
   ],
   "source": [
    "import java.util.concurrent.atomic.AtomicInteger\n",
    "\n",
    "val initialScratchcards = parseInput(lines)\n",
    "val processedScratchcards = AtomicInteger()\n",
    "\n",
    "val scratchcards = initialScratchcards.toMutableList()\n",
    "\n",
    "while (scratchcards.isNotEmpty()) {\n",
    "    val current = scratchcards.first()\n",
    "    val gainedScratchcards = initialScratchcards.drop(current.number).take(current.matchingNumbers)\n",
    "\n",
    "    processedScratchcards.incrementAndGet()\n",
    "\n",
    "    scratchcards.removeAt(0)\n",
    "    scratchcards.addAll(0, gainedScratchcards)\n",
    "}\n",
    "\n",
    "processedScratchcards.get()\n"
   ],
   "metadata": {
    "collapsed": false,
    "ExecuteTime": {
     "end_time": "2023-12-06T21:57:01.456028036Z",
     "start_time": "2023-12-06T21:56:55.353772802Z"
    }
   }
  }
 ],
 "metadata": {
  "kernelspec": {
   "display_name": "Kotlin",
   "language": "kotlin",
   "name": "kotlin"
  },
  "language_info": {
   "name": "kotlin",
   "version": "1.9.0",
   "mimetype": "text/x-kotlin",
   "file_extension": ".kt",
   "pygments_lexer": "kotlin",
   "codemirror_mode": "text/x-kotlin",
   "nbconvert_exporter": ""
  }
 },
 "nbformat": 4,
 "nbformat_minor": 0
}
