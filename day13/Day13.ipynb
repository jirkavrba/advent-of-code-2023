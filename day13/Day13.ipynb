{
 "cells": [
  {
   "cell_type": "markdown",
   "source": [
    "# Day 13"
   ],
   "metadata": {
    "collapsed": false
   }
  },
  {
   "cell_type": "code",
   "execution_count": 34,
   "outputs": [
    {
     "name": "stdout",
     "output_type": "stream",
     "text": [
      "(part 1, 30575)\n",
      "(part 2, 37478)\n"
     ]
    }
   ],
   "source": [
    "import kotlin.io.path.Path\n",
    "import kotlin.io.path.readText\n",
    "\n",
    "data class Pattern(\n",
    "    val rows: List<String>,\n",
    "    val columns: List<String>,\n",
    ")\n",
    "\n",
    "val patterns = Path(\"./input\")\n",
    "    .readText()\n",
    "    .split(\"\\n\\n\")\n",
    "    .map { block ->\n",
    "        val rows = block.trim().split(\"\\n\").filter { it.isNotBlank() }\n",
    "        val columns = rows.flip()\n",
    "\n",
    "        Pattern(\n",
    "            rows = rows,\n",
    "            columns = columns\n",
    "        )\n",
    "    }\n",
    "\n",
    "fun List<String>.flip(): List<String> =\n",
    "    first().indices.map { index ->\n",
    "        map { row ->\n",
    "            row[index]\n",
    "        }.joinToString(\"\")\n",
    "    }\n",
    "\n",
    "fun List<String>.indexesOfMirrors(smudges: Int = 0): List<Int> {\n",
    "    return indices.drop(1).filter { split ->\n",
    "        val first = take(split).reversed()\n",
    "        val second = drop(split)\n",
    "\n",
    "        first.zip(second).sumOf { (a, b) ->\n",
    "            a.zip(b).count {\n",
    "                it.first != it.second\n",
    "            }\n",
    "        } == smudges\n",
    "    }\n",
    "}\n",
    "\n",
    "// Part 1\n",
    "println(\n",
    "    \"part 1\" to patterns.sumOf { pattern ->\n",
    "        pattern.rows.indexesOfMirrors().sumOf { it * 100 } +\n",
    "                pattern.columns.indexesOfMirrors().sum()\n",
    "    }\n",
    ")\n",
    "// Part 2\n",
    "println(\n",
    "    \"part 2\" to patterns.sumOf { pattern ->\n",
    "        pattern.rows.indexesOfMirrors(1).sumOf { it * 100 } +\n",
    "                pattern.columns.indexesOfMirrors(1).sum()\n",
    "    }\n",
    ")\n"
   ],
   "metadata": {
    "collapsed": true,
    "ExecuteTime": {
     "end_time": "2023-12-13T19:51:50.391917168Z",
     "start_time": "2023-12-13T19:51:50.099632358Z"
    }
   }
  }
 ],
 "metadata": {
  "kernelspec": {
   "display_name": "Kotlin",
   "language": "kotlin",
   "name": "kotlin"
  },
  "language_info": {
   "name": "kotlin",
   "version": "1.9.0",
   "mimetype": "text/x-kotlin",
   "file_extension": ".kt",
   "pygments_lexer": "kotlin",
   "codemirror_mode": "text/x-kotlin",
   "nbconvert_exporter": ""
  }
 },
 "nbformat": 4,
 "nbformat_minor": 0
}
