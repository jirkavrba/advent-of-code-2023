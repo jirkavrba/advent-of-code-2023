{
 "cells": [
  {
   "cell_type": "markdown",
   "source": [
    "# Day 10"
   ],
   "metadata": {
    "collapsed": false
   }
  },
  {
   "cell_type": "code",
   "execution_count": 13,
   "outputs": [
    {
     "name": "stdout",
     "output_type": "stream",
     "text": [
      "6701\n"
     ]
    }
   ],
   "source": [
    "import kotlin.io.path.Path\n",
    "import kotlin.io.path.readLines\n",
    "\n",
    "enum class Direction(val shift: Position) {\n",
    "    Up(Position(0, -1)),\n",
    "    Left(Position(-1, 0)),\n",
    "    Right(Position(1, 0)),\n",
    "    Down(Position(0, 1))\n",
    "}\n",
    "\n",
    "enum class TileType(val symbol: Char, val directions: Set<Direction>) {\n",
    "    VerticalPipe('|', setOf(Direction.Up, Direction.Down)),\n",
    "    HorizontalPipe('-', setOf(Direction.Left, Direction.Right)),\n",
    "    NorthEastBendPipe('L', setOf(Direction.Up, Direction.Right)),\n",
    "    NorthWestBendPipe('J', setOf(Direction.Up, Direction.Left)),\n",
    "    SouthWestBendPipe('7', setOf(Direction.Left, Direction.Down)),\n",
    "    SouthEastBestPipe('F', setOf(Direction.Right, Direction.Down)),\n",
    "    StartingPosition('S', Direction.entries.toSet()),\n",
    "    Ground('.', emptySet()),\n",
    "}\n",
    "\n",
    "data class Position(\n",
    "    val x: Int,\n",
    "    val y: Int\n",
    ") {\n",
    "    operator fun plus(other: Position): Position =\n",
    "        Position(x + other.x, y + other.y)\n",
    "}\n",
    "\n",
    "data class Tile(\n",
    "    val type: TileType,\n",
    "    val position: Position\n",
    ")\n",
    "\n",
    "val tilesFromSymbols = TileType.entries.associate { it.symbol to it }\n",
    "fun Char.toTile(x: Int, y: Int): Tile =\n",
    "    tilesFromSymbols[this]\n",
    "        ?.let { type -> Tile(type = type, position = Position(x, y)) }\n",
    "        ?: throw RuntimeException(\"No tile type associated with the symbol $this\")\n",
    "\n",
    "val lines = Path(\"./input\").readLines().filter { it.isNotBlank() }\n",
    "val tiles = lines.flatMapIndexed { y, line ->\n",
    "    line.mapIndexed { x, char ->\n",
    "        char.toTile(x, y)\n",
    "    }\n",
    "}\n",
    "\n",
    "\n",
    "typealias TilesMap = Map<Position, Tile>\n",
    "\n",
    "val map: TilesMap = tiles.associateBy { it.position }\n",
    "val start = tiles.first { it.type == TileType.StartingPosition }\n",
    "\n",
    "fun Tile.connectedPipes(map: TilesMap): Set<Tile> =\n",
    "    type.directions\n",
    "        .mapNotNull { map[position + it.shift] }\n",
    "        .toSet()\n",
    "\n",
    "tailrec fun findLoop(start: Tile, map: TilesMap, visitedNodes: List<Tile> = emptyList()): List<Tile> {\n",
    "    val connections = start.connectedPipes(map).filter { it.connectedPipes(map).contains(start) }\n",
    "    val availableConnections = connections - visitedNodes\n",
    "    \n",
    "    // Reached the full loop\n",
    "    if (availableConnections.size == 0 && connections.any { it.type == TileType.StartingPosition }) {\n",
    "        return visitedNodes + start\n",
    "    }\n",
    "    \n",
    "    return findLoop(availableConnections.random(), map, visitedNodes + start)\n",
    "}\n",
    "\n",
    "// Part 1 \n",
    "println(findLoop(start, map).size / 2)\n"
   ],
   "metadata": {
    "collapsed": true,
    "ExecuteTime": {
     "end_time": "2023-12-10T09:00:48.405279807Z",
     "start_time": "2023-12-10T09:00:47.329691656Z"
    }
   }
  }
 ],
 "metadata": {
  "kernelspec": {
   "display_name": "Kotlin",
   "language": "kotlin",
   "name": "kotlin"
  },
  "language_info": {
   "name": "kotlin",
   "version": "1.9.0",
   "mimetype": "text/x-kotlin",
   "file_extension": ".kt",
   "pygments_lexer": "kotlin",
   "codemirror_mode": "text/x-kotlin",
   "nbconvert_exporter": ""
  }
 },
 "nbformat": 4,
 "nbformat_minor": 0
}
