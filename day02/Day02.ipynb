{
 "cells": [
  {
   "cell_type": "code",
   "execution_count": 5,
   "metadata": {
    "collapsed": true,
    "ExecuteTime": {
     "end_time": "2023-12-06T22:06:29.299434904Z",
     "start_time": "2023-12-06T22:06:29.038478130Z"
    }
   },
   "outputs": [],
   "source": [
    "import kotlin.io.path.Path\n",
    "import kotlin.io.path.readLines\n",
    "\n",
    "data class Dices(\n",
    "    val red: Int = 0,\n",
    "    val green: Int = 0,\n",
    "    val blue: Int = 0,\n",
    ")\n",
    "\n",
    "data class Game(\n",
    "    val number: Int,\n",
    "    val reveals: List<Dices>\n",
    ")\n",
    "\n",
    "fun Game.isPossibleWithBag(bag: Dices) =\n",
    "    reveals.all {\n",
    "        it.red <= bag.red &&\n",
    "                it.green <= bag.green &&\n",
    "                it.blue <= bag.blue\n",
    "    }\n",
    "\n",
    "fun parseInput(lines: List<String>): List<Game> =\n",
    "    lines.map { line ->\n",
    "        val (number, reveals) = line.removePrefix(\"Game \").split(\": \")\n",
    "        val parsedReveals = reveals.split(\"; \").map {\n",
    "            it.split(\", \").fold(Dices()) { dices, part ->\n",
    "                val (count, color) = part.split(\" \")\n",
    "\n",
    "                when (color) {\n",
    "                    \"red\" -> dices.copy(red = count.toInt())\n",
    "                    \"green\" -> dices.copy(green = count.toInt())\n",
    "                    \"blue\" -> dices.copy(blue = count.toInt())\n",
    "                    else -> throw IllegalArgumentException(\"The dice color: $color is not recognized!\")\n",
    "                }\n",
    "            }\n",
    "        }\n",
    "\n",
    "        Game(\n",
    "            number = number.toInt(),\n",
    "            reveals = parsedReveals\n",
    "        )\n",
    "    }\n",
    "\n",
    "val lines = Path(\"./input\").readLines().filter { it.isNotBlank() }\n",
    "val games = parseInput(lines)"
   ]
  },
  {
   "cell_type": "markdown",
   "source": [
    "## Part 1"
   ],
   "metadata": {
    "collapsed": false
   }
  },
  {
   "cell_type": "code",
   "execution_count": 6,
   "outputs": [
    {
     "data": {
      "text/plain": "2685"
     },
     "execution_count": 6,
     "metadata": {},
     "output_type": "execute_result"
    }
   ],
   "source": [
    "val bag = Dices(\n",
    "    red = 12,\n",
    "    green = 13,\n",
    "    blue = 14\n",
    ")\n",
    "\n",
    "games.filter { it.isPossibleWithBag(bag) }.sumOf { it.number }\n"
   ],
   "metadata": {
    "collapsed": false,
    "ExecuteTime": {
     "end_time": "2023-12-06T22:06:29.380618974Z",
     "start_time": "2023-12-06T22:06:29.299378192Z"
    }
   }
  },
  {
   "cell_type": "markdown",
   "source": [
    "## Part 2"
   ],
   "metadata": {
    "collapsed": false
   }
  },
  {
   "cell_type": "code",
   "execution_count": 7,
   "outputs": [
    {
     "data": {
      "text/plain": "83707"
     },
     "execution_count": 7,
     "metadata": {},
     "output_type": "execute_result"
    }
   ],
   "source": [
    "games.sumOf { game ->\n",
    "    val red = game.reveals.maxOf { it.red }\n",
    "    val green = game.reveals.maxOf { it.green }\n",
    "    val blue = game.reveals.maxOf { it.blue }\n",
    "\n",
    "    red * green * blue\n",
    "}\n"
   ],
   "metadata": {
    "collapsed": false,
    "ExecuteTime": {
     "end_time": "2023-12-06T22:06:29.561195214Z",
     "start_time": "2023-12-06T22:06:29.381202088Z"
    }
   }
  }
 ],
 "metadata": {
  "kernelspec": {
   "display_name": "Kotlin",
   "language": "kotlin",
   "name": "kotlin"
  },
  "language_info": {
   "name": "kotlin",
   "version": "1.9.0",
   "mimetype": "text/x-kotlin",
   "file_extension": ".kt",
   "pygments_lexer": "kotlin",
   "codemirror_mode": "text/x-kotlin",
   "nbconvert_exporter": ""
  }
 },
 "nbformat": 4,
 "nbformat_minor": 0
}
