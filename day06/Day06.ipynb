{
 "cells": [
  {
   "cell_type": "code",
   "execution_count": 48,
   "metadata": {
    "collapsed": true,
    "ExecuteTime": {
     "end_time": "2023-12-06T21:38:16.824820132Z",
     "start_time": "2023-12-06T21:38:16.645430514Z"
    }
   },
   "outputs": [
    {
     "data": {
      "text/plain": "[Record(time=40, distance=215), Record(time=92, distance=1064), Record(time=97, distance=1505), Record(time=90, distance=1100)]"
     },
     "execution_count": 48,
     "metadata": {},
     "output_type": "execute_result"
    }
   ],
   "source": [
    "import kotlin.io.path.Path\n",
    "import kotlin.io.path.readLines\n",
    "\n",
    "val (timesLine, distanceLine) = Path(\"./input\").readLines().filter { it.isNotBlank() }\n",
    "val times = \"\\\\d+\".toRegex().findAll(timesLine.removePrefix(\"Time:\")).map { it.value.toLong() }\n",
    "val distances = \"\\\\d+\".toRegex().findAll(distanceLine.removePrefix(\"Distance:\")).map { it.value.toLong() }\n",
    "\n",
    "data class Record(\n",
    "    val time: Long,\n",
    "    val distance: Long\n",
    ")\n",
    "\n",
    "val records = times.zip(distances).map { Record(it.first, it.second) }.toList()\n",
    "\n",
    "records\n"
   ]
  },
  {
   "cell_type": "code",
   "execution_count": 49,
   "outputs": [],
   "source": [
    "fun solveQuadraticEquation(a: Long, b: Long, c: Long): Pair<Double, Double> {\n",
    "    val discriminant = sqrt(b * b - 4.0 * a * c)\n",
    "    val results = listOf(-1, 1).map { (-b + it * discriminant) / (2 * a) }\n",
    "\n",
    "    return results.min() to results.max()\n",
    "}\n",
    "\n",
    "// Find all integer solutions for: (time - x) * x - distance > 0\n",
    "// ~= -1 * x^2 + time * x -1 * record = 0\n",
    "fun numberOfWinCombinations(record: Record): Long {\n",
    "    val (low, high) = solveQuadraticEquation(-1, record.time, -record.distance)\n",
    "\n",
    "    // Number of integers in the given range\n",
    "    return ceil(high - 1).roundToLong() - floor(low + 1).roundToLong() + 1\n",
    "}"
   ],
   "metadata": {
    "collapsed": false,
    "ExecuteTime": {
     "end_time": "2023-12-06T21:38:16.918400236Z",
     "start_time": "2023-12-06T21:38:16.823820059Z"
    }
   }
  },
  {
   "cell_type": "markdown",
   "source": [
    "# Part 1"
   ],
   "metadata": {
    "collapsed": false
   }
  },
  {
   "cell_type": "code",
   "execution_count": 50,
   "outputs": [
    {
     "data": {
      "text/plain": "6209190"
     },
     "execution_count": 50,
     "metadata": {},
     "output_type": "execute_result"
    }
   ],
   "source": [
    "records.fold(1L) { product, record -> product * numberOfWinCombinations(record) }"
   ],
   "metadata": {
    "collapsed": false,
    "ExecuteTime": {
     "end_time": "2023-12-06T21:38:16.969938591Z",
     "start_time": "2023-12-06T21:38:16.917517149Z"
    }
   }
  },
  {
   "cell_type": "markdown",
   "source": [
    "# Part 2"
   ],
   "metadata": {
    "collapsed": false
   }
  },
  {
   "cell_type": "code",
   "execution_count": 51,
   "outputs": [
    {
     "data": {
      "text/plain": "28545089"
     },
     "execution_count": 51,
     "metadata": {},
     "output_type": "execute_result"
    }
   ],
   "source": [
    "val mergedTimes = times.map { it.toString() }.reduce { a, b -> a + b }.toLong()\n",
    "val mergedDistances = distances.map { it.toString() }.reduce { a, b -> a + b }.toLong()\n",
    "\n",
    "val mergedRecord = Record(\n",
    "    time = mergedTimes,\n",
    "    distance = mergedDistances\n",
    ")\n",
    "\n",
    "numberOfWinCombinations(mergedRecord)"
   ],
   "metadata": {
    "collapsed": false,
    "ExecuteTime": {
     "end_time": "2023-12-06T21:38:17.063895915Z",
     "start_time": "2023-12-06T21:38:16.969121506Z"
    }
   }
  }
 ],
 "metadata": {
  "kernelspec": {
   "display_name": "Kotlin",
   "language": "kotlin",
   "name": "kotlin"
  },
  "language_info": {
   "name": "kotlin",
   "version": "1.9.0",
   "mimetype": "text/x-kotlin",
   "file_extension": ".kt",
   "pygments_lexer": "kotlin",
   "codemirror_mode": "text/x-kotlin",
   "nbconvert_exporter": ""
  }
 },
 "nbformat": 4,
 "nbformat_minor": 0
}
