{
 "cells": [
  {
   "cell_type": "code",
   "execution_count": 36,
   "metadata": {
    "collapsed": true,
    "ExecuteTime": {
     "end_time": "2023-12-06T21:30:59.610128405Z",
     "start_time": "2023-12-06T21:30:59.487459167Z"
    }
   },
   "outputs": [
    {
     "data": {
      "text/plain": "[Record(time=40, distance=215), Record(time=92, distance=1064), Record(time=97, distance=1505), Record(time=90, distance=1100)]"
     },
     "execution_count": 36,
     "metadata": {},
     "output_type": "execute_result"
    }
   ],
   "source": [
    "import kotlin.io.path.Path\n",
    "import kotlin.io.path.readLines\n",
    "\n",
    "val (timesLine, distanceLine) = Path(\"./input\").readLines().filter { it.isNotBlank() }\n",
    "val times = \"\\\\d+\".toRegex().findAll(timesLine.removePrefix(\"Time:\")).map { it.value.toInt() }\n",
    "val distances = \"\\\\d+\".toRegex().findAll(distanceLine.removePrefix(\"Distance:\")).map { it.value.toInt() }\n",
    "\n",
    "data class Record(\n",
    "    val time: Int,\n",
    "    val distance: Int\n",
    ")\n",
    "\n",
    "val records = times.zip(distances).map { Record(it.first, it.second) }.toList()\n",
    "\n",
    "records\n"
   ]
  },
  {
   "cell_type": "code",
   "execution_count": 37,
   "outputs": [],
   "source": [
    "fun solveQuadraticEquation(a: Int, b: Int, c: Int): Pair<Double, Double> {\n",
    "    val discriminant = sqrt(b * b - 4.0 * a * c)\n",
    "    val results = listOf(-1, 1).map { (-b + it * discriminant) / (2 * a) }\n",
    "\n",
    "    return results.min() to results.max()\n",
    "}\n",
    "\n",
    "// Find all integer solutions for: (time - x) * x - distance > 0\n",
    "// ~= -1 * x^2 + time * x -1 * record = 0\n",
    "fun numberOfWinCombinations(time: Int, distance: Int): Int {\n",
    "    val (low, high) = solveQuadraticEquation(-1, time, -distance)\n",
    "\n",
    "    // Number of integers in the given range\n",
    "    return ceil(high - 1).roundToInt() - floor(low + 1).roundToInt() + 1\n",
    "}"
   ],
   "metadata": {
    "collapsed": false,
    "ExecuteTime": {
     "end_time": "2023-12-06T21:30:59.709620805Z",
     "start_time": "2023-12-06T21:30:59.609662208Z"
    }
   }
  },
  {
   "cell_type": "markdown",
   "source": [
    "# Part 1"
   ],
   "metadata": {
    "collapsed": false
   }
  },
  {
   "cell_type": "code",
   "execution_count": 38,
   "outputs": [
    {
     "data": {
      "text/plain": "6209190"
     },
     "execution_count": 38,
     "metadata": {},
     "output_type": "execute_result"
    }
   ],
   "source": [
    "records.fold(1) { product, record ->\n",
    "    product * numberOfWinCombinations(record.time, record.distance)\n",
    "}"
   ],
   "metadata": {
    "collapsed": false,
    "ExecuteTime": {
     "end_time": "2023-12-06T21:30:59.755773756Z",
     "start_time": "2023-12-06T21:30:59.709069610Z"
    }
   }
  }
 ],
 "metadata": {
  "kernelspec": {
   "display_name": "Kotlin",
   "language": "kotlin",
   "name": "kotlin"
  },
  "language_info": {
   "name": "kotlin",
   "version": "1.9.0",
   "mimetype": "text/x-kotlin",
   "file_extension": ".kt",
   "pygments_lexer": "kotlin",
   "codemirror_mode": "text/x-kotlin",
   "nbconvert_exporter": ""
  }
 },
 "nbformat": 4,
 "nbformat_minor": 0
}
