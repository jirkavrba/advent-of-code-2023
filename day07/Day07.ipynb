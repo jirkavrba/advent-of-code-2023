{
 "cells": [
  {
   "cell_type": "markdown",
   "source": [
    "# Day 7"
   ],
   "metadata": {
    "collapsed": false
   }
  },
  {
   "cell_type": "code",
   "execution_count": 7,
   "outputs": [],
   "source": [
    "import kotlin.io.path.Path\n",
    "import kotlin.io.path.readLines\n",
    "\n",
    "private typealias Rank = Char\n",
    "\n",
    "data class Card(val rank: Rank, val ranks: List<Rank>) : Comparable<Card> {\n",
    "    override fun compareTo(other: Card): Int = ranks.indexOf(other.rank) - ranks.indexOf(rank)\n",
    "}\n",
    "\n",
    "enum class Combination {\n",
    "    FiveOfKind,\n",
    "    FourOfKind,\n",
    "    FullHouse,\n",
    "    ThreeOfKind,\n",
    "    TwoPair,\n",
    "    Pair,\n",
    "    HighCard\n",
    "}\n",
    "\n",
    "data class Hand(val cards: List<Card>, val joker: Rank? = null) : Comparable<Hand> {\n",
    "    val bestCombination: Combination get() {\n",
    "        val (firstWithoutJokers, second) = (\n",
    "            cards\n",
    "                .filter { it.rank != joker }\n",
    "                .groupBy { it.rank }\n",
    "                .map { it.value.size }\n",
    "                .sortedDescending() + listOf(0, 0)\n",
    "        )\n",
    "            \n",
    "        val jokers = joker?.let { joker -> cards.count { it.rank == joker } } ?: 0\n",
    "        val first = firstWithoutJokers + jokers\n",
    "        \n",
    "        return when {\n",
    "            first == 5 -> Combination.FiveOfKind\n",
    "            first == 4 -> Combination.FourOfKind\n",
    "            first == 3 && second == 2 -> Combination.FullHouse\n",
    "            first == 3 -> Combination.ThreeOfKind\n",
    "            first == 2 && second == 2 -> Combination.TwoPair\n",
    "            first == 2 -> Combination.Pair\n",
    "            else -> Combination.HighCard\n",
    "        }\n",
    "    }\n",
    "    \n",
    "    override fun toString() = cards.map { it.rank }.joinToString(\"\")\n",
    "\n",
    "    override fun compareTo(other: Hand): Int {\n",
    "        val comparison = bestCombination compareTo  other.bestCombination\n",
    "        \n",
    "        if (comparison == 0) {\n",
    "            return cards\n",
    "                .zip(other.cards)\n",
    "                .map { (first, second) -> first compareTo second }\n",
    "                .first { it != 0 }\n",
    "        }\n",
    "        \n",
    "        return comparison\n",
    "    }\n",
    "}\n",
    "\n",
    "data class Round(val hand: Hand, val bet: Int) : Comparable<Round> {\n",
    "    override fun compareTo(other: Round): Int = hand compareTo other.hand\n",
    "    override fun toString(): String = \"$hand ${hand.bestCombination} ($bet)\"\n",
    "}\n",
    "\n",
    "val lines = Path(\"./input\").readLines().filter { it.isNotBlank() }\n"
   ],
   "metadata": {
    "collapsed": false,
    "ExecuteTime": {
     "end_time": "2023-12-07T23:01:09.054323012Z",
     "start_time": "2023-12-07T23:01:08.071015215Z"
    }
   }
  },
  {
   "cell_type": "markdown",
   "source": [
    "# Part 1"
   ],
   "metadata": {
    "collapsed": false
   }
  },
  {
   "cell_type": "code",
   "execution_count": 8,
   "outputs": [
    {
     "data": {
      "text/plain": "247961593"
     },
     "execution_count": 8,
     "metadata": {},
     "output_type": "execute_result"
    }
   ],
   "source": [
    "val ranks = listOf('2', '3', '4', '5', '6', '7', '8', '9', 'T', 'J', 'Q', 'K', 'A')\n",
    "val rounds = lines.map { line ->\n",
    "    val (cards, bet) = line.split(\" \").map { it.trim() }\n",
    "\n",
    "    Round(\n",
    "        hand = Hand(cards.map { Card(it, ranks) }),\n",
    "        bet = bet.toInt()\n",
    "    )\n",
    "}\n",
    "\n",
    "rounds.sortedDescending()\n",
    "    .mapIndexed { index, round -> (index + 1) * round.bet }\n",
    "    .sum()"
   ],
   "metadata": {
    "collapsed": false,
    "ExecuteTime": {
     "end_time": "2023-12-07T23:01:09.335447591Z",
     "start_time": "2023-12-07T23:01:09.054375324Z"
    }
   }
  },
  {
   "cell_type": "markdown",
   "source": [
    "# Part 2"
   ],
   "metadata": {
    "collapsed": false
   }
  },
  {
   "cell_type": "code",
   "execution_count": 9,
   "outputs": [
    {
     "data": {
      "text/plain": "248750699"
     },
     "execution_count": 9,
     "metadata": {},
     "output_type": "execute_result"
    }
   ],
   "source": [
    "val ranks = listOf('J', '2', '3', '4', '5', '6', '7', '8', '9', 'T', 'Q', 'K', 'A')\n",
    "val rounds = lines.map { line ->\n",
    "    val (cards, bet) = line.split(\" \").map { it.trim() }\n",
    "\n",
    "    Round(\n",
    "        hand = Hand(cards = cards.map { Card(it, ranks) }, joker = 'J'),\n",
    "        bet = bet.toInt()\n",
    "    )\n",
    "}\n",
    "\n",
    "rounds.sortedDescending()\n",
    "    .mapIndexed { index, round -> (index + 1) * round.bet }\n",
    "    .sum()"
   ],
   "metadata": {
    "collapsed": false,
    "ExecuteTime": {
     "end_time": "2023-12-07T23:01:09.615519717Z",
     "start_time": "2023-12-07T23:01:09.335454645Z"
    }
   }
  }
 ],
 "metadata": {
  "kernelspec": {
   "display_name": "Kotlin",
   "language": "kotlin",
   "name": "kotlin"
  },
  "language_info": {
   "name": "kotlin",
   "version": "1.9.0",
   "mimetype": "text/x-kotlin",
   "file_extension": ".kt",
   "pygments_lexer": "kotlin",
   "codemirror_mode": "text/x-kotlin",
   "nbconvert_exporter": ""
  }
 },
 "nbformat": 4,
 "nbformat_minor": 0
}
