{
 "cells": [
  {
   "cell_type": "markdown",
   "source": [
    "# Day 3"
   ],
   "metadata": {
    "collapsed": false
   }
  },
  {
   "cell_type": "code",
   "execution_count": 3,
   "outputs": [],
   "source": [
    "import kotlin.io.path.Path\n",
    "import kotlin.io.path.readLines\n",
    "\n",
    "data class Position(\n",
    "    val x: Int,\n",
    "    val y: Int\n",
    ")\n",
    "\n",
    "data class NumberToken(\n",
    "    val value: Int,\n",
    "    val length: Int,\n",
    "    val origin: Position,\n",
    ")\n",
    "\n",
    "data class SymbolToken(\n",
    "    val symbol: String,\n",
    "    val position: Position\n",
    ")\n",
    "\n",
    "val SymbolToken.neighbourPositions: Set<Position>\n",
    "    get() =\n",
    "        (-1..1).flatMap { x ->\n",
    "            (-1..1).map { y ->\n",
    "                Position(position.x + x, position.y + y)\n",
    "            }\n",
    "        }.toSet()\n",
    "\n",
    "val NumberToken.neighbourPositions: Set<Position>\n",
    "    get() =\n",
    "        (-1..length).flatMap { x ->\n",
    "            (-1..1).map { y ->\n",
    "                Position(origin.x + x, origin.y + y)\n",
    "            }\n",
    "        }.toSet()\n",
    "\n",
    "val NumberToken.occupiedPositions: Set<Position>\n",
    "    get() =\n",
    "        (0..<length).map {\n",
    "            Position(origin.x + it, origin.y)\n",
    "        }.toSet()\n",
    "\n",
    "fun parseInput(lines: List<String>): Pair<Set<NumberToken>, Set<SymbolToken>> {\n",
    "    data class ReductionState(\n",
    "        val numbers: Set<NumberToken> = emptySet(),\n",
    "        val symbols: Set<SymbolToken> = emptySet(),\n",
    "        val currentNumberToken: NumberToken? = null,\n",
    "    )\n",
    "\n",
    "    return lines.mapIndexed { y, line ->\n",
    "        val result = line.foldIndexed(ReductionState()) { x, state, character ->\n",
    "            when {\n",
    "                character.isDigit() -> state.copy(\n",
    "                    currentNumberToken = state.currentNumberToken\n",
    "                        ?.let {\n",
    "                            it.copy(\n",
    "                                value = it.value * 10 + character.digitToInt(),\n",
    "                                length = it.length + 1\n",
    "                            )\n",
    "                        }\n",
    "                        ?: NumberToken(\n",
    "                            value = character.digitToInt(),\n",
    "                            length = 1,\n",
    "                            origin = Position(x, y)\n",
    "                        )\n",
    "                )\n",
    "\n",
    "                character == '.' -> state.copy(\n",
    "                    numbers = state.numbers + setOfNotNull(state.currentNumberToken),\n",
    "                    currentNumberToken = null\n",
    "                )\n",
    "\n",
    "\n",
    "                else -> state.copy(\n",
    "                    numbers = state.numbers + setOfNotNull(state.currentNumberToken),\n",
    "                    symbols = state.symbols + SymbolToken(character.toString(), position = Position(x, y)),\n",
    "                    currentNumberToken = null\n",
    "                )\n",
    "            }\n",
    "        }\n",
    "\n",
    "        val numbers = result.numbers + setOfNotNull(result.currentNumberToken)\n",
    "        val symbols = result.symbols\n",
    "\n",
    "        numbers to symbols\n",
    "    }\n",
    "        .reduce { (accumulatedNumbers, accumulatedSymbols), (numbers, symbols) ->\n",
    "            (accumulatedNumbers + numbers) to (accumulatedSymbols + symbols)\n",
    "        }\n",
    "}\n",
    "\n",
    "val lines = Path(\"./input\").readLines().filter { it.isNotBlank() }\n",
    "val (numbers, symbols) = parseInput(lines)\n"
   ],
   "metadata": {
    "collapsed": true,
    "ExecuteTime": {
     "end_time": "2023-12-06T22:01:28.311076045Z",
     "start_time": "2023-12-06T22:01:27.829901075Z"
    }
   }
  },
  {
   "cell_type": "markdown",
   "source": [
    "## Part 1"
   ],
   "metadata": {
    "collapsed": false
   }
  },
  {
   "cell_type": "code",
   "execution_count": 4,
   "outputs": [
    {
     "data": {
      "text/plain": "543867"
     },
     "execution_count": 4,
     "metadata": {},
     "output_type": "execute_result"
    }
   ],
   "source": [
    "val symbolPositions = symbols.map { it.position }.toSet()\n",
    "\n",
    "numbers\n",
    "    .filter { number -> number.neighbourPositions.any { it in symbolPositions } }\n",
    "    .sumOf { it.value }\n"
   ],
   "metadata": {
    "collapsed": false,
    "ExecuteTime": {
     "end_time": "2023-12-06T22:01:28.444863908Z",
     "start_time": "2023-12-06T22:01:28.303790370Z"
    }
   }
  },
  {
   "cell_type": "markdown",
   "source": [
    "## Part 2"
   ],
   "metadata": {
    "collapsed": false
   }
  },
  {
   "cell_type": "code",
   "execution_count": 6,
   "outputs": [
    {
     "data": {
      "text/plain": "79613331"
     },
     "execution_count": 6,
     "metadata": {},
     "output_type": "execute_result"
    }
   ],
   "source": [
    "val numbersMap = numbers\n",
    "    .flatMap { token -> token.occupiedPositions.map { it to token.value } }\n",
    "    .fold(emptyMap<Position, Int>()) { map, positions -> map + positions }\n",
    "\n",
    "symbols\n",
    "    .filter { it.symbol == \"*\" }\n",
    "    .sumOf { symbol ->\n",
    "        val neighbourNumbers = symbol.neighbourPositions.mapNotNull { numbersMap[it] }.toSet()\n",
    "        if (neighbourNumbers.size == 2) neighbourNumbers.reduce { a, b -> a * b } else 0\n",
    "    }\n"
   ],
   "metadata": {
    "collapsed": false,
    "ExecuteTime": {
     "end_time": "2023-12-06T22:02:00.075620457Z",
     "start_time": "2023-12-06T22:01:59.694266285Z"
    }
   }
  }
 ],
 "metadata": {
  "kernelspec": {
   "display_name": "Kotlin",
   "language": "kotlin",
   "name": "kotlin"
  },
  "language_info": {
   "name": "kotlin",
   "version": "1.9.0",
   "mimetype": "text/x-kotlin",
   "file_extension": ".kt",
   "pygments_lexer": "kotlin",
   "codemirror_mode": "text/x-kotlin",
   "nbconvert_exporter": ""
  }
 },
 "nbformat": 4,
 "nbformat_minor": 0
}
